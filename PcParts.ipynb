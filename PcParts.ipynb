{
 "cells": [
  {
   "cell_type": "markdown",
   "id": "89e15fac-466f-4cde-91d5-45f771d04c62",
   "metadata": {},
   "source": [
    "# Import Required Libraries"
   ]
  },
  {
   "cell_type": "code",
   "execution_count": null,
   "id": "fc6dd5fd-6fd9-46ed-8354-b31f02b6cd1c",
   "metadata": {},
   "outputs": [],
   "source": [
    "#!pip install -q scikeras[tensorflow] albumentations"
   ]
  },
  {
   "cell_type": "code",
   "execution_count": null,
   "id": "2da69f9b-6553-47d4-8c4b-9a53208df3e1",
   "metadata": {},
   "outputs": [],
   "source": [
    "import numpy as np\n",
    "import pandas as pd\n",
    "import os\n",
    "import cv2\n",
    "\n",
    "import matplotlib.pyplot as plt\n",
    "import matplotlib.cm as cm\n",
    "import seaborn as sns\n",
    "import PIL\n",
    "from PIL import Image\n",
    "import albumentations as A\n",
    "from collections import Counter\n",
    "\n",
    "sns.set_style(\"whitegrid\")\n",
    "pd.set_option(\"display.max_columns\", None)\n",
    "pd.set_option(\"display.max_colwidth\", None)\n",
    "pd.set_option(\"display.float_format\", lambda x: \"%.4f\" % x)\n",
    "\n",
    "import tensorflow as tf\n",
    "from tensorflow.keras.preprocessing.image import ImageDataGenerator\n",
    "from tensorflow.keras.callbacks import EarlyStopping, ModelCheckpoint\n",
    "from sklearn.preprocessing import LabelEncoder\n",
    "from tensorflow.keras.utils import to_categorical\n",
    "from scikeras.wrappers import KerasClassifier\n",
    "from sklearn.model_selection import GridSearchCV\n",
    "\n",
    "#import lime\n",
    "#from lime import lime_image\n",
    "#from lime import submodular_pick\n",
    "#from skimage.segmentation import mark_boundaries\n",
    "\n",
    "from tensorflow.keras.applications import VGG16\n",
    "from tensorflow.keras.applications.vgg16 import preprocess_input as vgg16_preprocess\n",
    "from tensorflow.keras.applications import VGG19\n",
    "from tensorflow.keras.applications.vgg19 import preprocess_input as vgg19_preprocess\n",
    "from tensorflow.keras.applications import ResNet50\n",
    "from tensorflow.keras.applications.resnet50 import preprocess_input as resnet50_preprocess\n",
    "from tensorflow.keras.applications import ResNet101\n",
    "from tensorflow.keras.applications.resnet import preprocess_input as resnet101_preprocess\n",
    "from tensorflow.keras.applications import MobileNetV2\n",
    "from tensorflow.keras.applications.mobilenet import preprocess_input as mobilenetv2_preprocess\n",
    "from tensorflow.keras.applications import DenseNet201\n",
    "from tensorflow.keras.applications.densenet import preprocess_input as densenet201_preprocess\n",
    "from tensorflow.keras.applications import Xception\n",
    "from tensorflow.keras.applications.xception import preprocess_input as xception_preprocess\n",
    "from tensorflow.keras.applications import InceptionResNetV2\n",
    "from tensorflow.keras.applications.inception_resnet_v2 import preprocess_input as inceptionresnetv2_preprocess\n",
    "\n",
    "from tensorflow.keras.preprocessing.image import load_img, img_to_array\n",
    "\n",
    "import warnings\n",
    "warnings.filterwarnings('ignore')"
   ]
  },
  {
   "cell_type": "markdown",
   "id": "48a30bec-a7a8-42e9-ac02-8a6713959bfc",
   "metadata": {},
   "source": [
    "# Load Data"
   ]
  },
  {
   "cell_type": "code",
   "execution_count": null,
   "id": "4597054f-43c0-4741-a88a-ca2502163968",
   "metadata": {},
   "outputs": [],
   "source": [
    "root_dir = \"/mnt/d/Datasets/pc_parts/\""
   ]
  },
  {
   "cell_type": "code",
   "execution_count": null,
   "id": "48f8530a-56f6-4e40-a60d-76f042cbce2a",
   "metadata": {},
   "outputs": [],
   "source": [
    "folders = os.listdir(root_dir)\n",
    "folders"
   ]
  },
  {
   "cell_type": "code",
   "execution_count": null,
   "id": "e0b0ce22-0606-42b7-8247-66714c2fe514",
   "metadata": {},
   "outputs": [],
   "source": [
    "def read_data(folder):\n",
    "    data, labels, paths = [], [], []\n",
    "    for label in folders:\n",
    "        path = f\"{folder}/{label}/\"\n",
    "        folder_data = os.listdir(path)\n",
    "        for image_path in folder_data:\n",
    "            img = cv2.imread(path + image_path)\n",
    "            img = cv2.resize(img, (224, 224))\n",
    "            data.append(np.array(img))\n",
    "            labels.append(label)\n",
    "            paths.append(os.path.join(root_dir, label, image_path))\n",
    "\n",
    "    return data, labels, paths"
   ]
  },
  {
   "cell_type": "code",
   "execution_count": null,
   "id": "ef2d92cf-cc96-4020-aa24-2f529d3242f6",
   "metadata": {},
   "outputs": [],
   "source": [
    "all_data, all_labels, all_paths = read_data(root_dir)"
   ]
  },
  {
   "cell_type": "code",
   "execution_count": null,
   "id": "86c6a909-a583-4a31-bcaf-ffdbe9c90c2c",
   "metadata": {},
   "outputs": [],
   "source": [
    "df = pd.DataFrame({\n",
    "    'data': all_data,\n",
    "    'filepath': all_paths,\n",
    "    'labels': all_labels\n",
    "})"
   ]
  },
  {
   "cell_type": "code",
   "execution_count": null,
   "id": "339ea547-c2ac-483a-8c55-ae26ced6fdac",
   "metadata": {},
   "outputs": [],
   "source": [
    "df.shape"
   ]
  },
  {
   "cell_type": "code",
   "execution_count": null,
   "id": "d1c0ef55-40af-4696-bdfe-5866303396cc",
   "metadata": {},
   "outputs": [],
   "source": [
    "df_train, df_valid, df_test = np.split(df.sample(frac=1), [int(.6 * len(df)), int(.8 * len(df))])\n",
    "\n",
    "print(\"Train Size:\", df_train.shape[0])\n",
    "print(\"Validation Size:\", df_valid.shape[0])\n",
    "print(\"Test Size:\", df_test.shape[0])"
   ]
  },
  {
   "cell_type": "markdown",
   "id": "6500cda6-c021-45bc-b1d8-e7c132660c82",
   "metadata": {},
   "source": [
    "# Visualization"
   ]
  },
  {
   "cell_type": "code",
   "execution_count": null,
   "id": "fc477bf5-bd9d-4d0a-bcea-8734561e2f1b",
   "metadata": {},
   "outputs": [],
   "source": [
    "def plot_dist(df, target, title):\n",
    "    plt.figure(figsize=(10, 8))\n",
    "    ax = sns.countplot(y=target, order=df[target].value_counts().index, data=df, palette=\"crest\")\n",
    "    ax.set_title(title)\n",
    "    for container in ax.containers:\n",
    "        ax.bar_label(container)"
   ]
  },
  {
   "cell_type": "code",
   "execution_count": null,
   "id": "83fa02b9-3739-4734-a371-ae5800cba0f6",
   "metadata": {},
   "outputs": [],
   "source": [
    "plot_dist(df_train, \"labels\", \"Train - Categories\")"
   ]
  },
  {
   "cell_type": "code",
   "execution_count": null,
   "id": "f8ce1e23-2d4f-4b47-85a6-ed138cdfd3fc",
   "metadata": {},
   "outputs": [],
   "source": [
    "plot_dist(df_valid, \"labels\", \"Validation - Categories\")"
   ]
  },
  {
   "cell_type": "code",
   "execution_count": null,
   "id": "44325938-2622-4ec7-bfef-91d4c40e9ac4",
   "metadata": {},
   "outputs": [],
   "source": [
    "plot_dist(df_test, \"labels\", \"Test - Categories\")"
   ]
  },
  {
   "cell_type": "code",
   "execution_count": null,
   "id": "4e2402d3-55cf-4920-a8b0-5300cc2ac593",
   "metadata": {},
   "outputs": [],
   "source": [
    "def visualize_df(df, data_col, target):\n",
    "    fig, axes = plt.subplots(4, 4, figsize=(12, 12))\n",
    "\n",
    "    for i, ax in enumerate(axes.ravel()):\n",
    "        if i < len(df):\n",
    "            a = np.random.randint(1, len(df), 1)[0]\n",
    "            img_path = df.loc[a][[data_col]].values[0]\n",
    "            img_label = df.loc[a][[target]].values[0]\n",
    "\n",
    "            image = Image.open(img_path).convert('RGB')\n",
    "\n",
    "            ax.imshow(image)\n",
    "            ax.set_title(img_label)\n",
    "            ax.axis('off')\n",
    "        \n",
    "        else:\n",
    "            ax.axis('off')\n",
    "\n",
    "    plt.tight_layout()\n",
    "    plt.show()"
   ]
  },
  {
   "cell_type": "code",
   "execution_count": null,
   "id": "9882e7e3-f5e5-4198-960d-cb62cca929c7",
   "metadata": {},
   "outputs": [],
   "source": [
    "visualize_df(df, 'filepath', 'labels')"
   ]
  },
  {
   "cell_type": "markdown",
   "id": "a0e93412-babb-4d7b-b176-f6bebf7354e6",
   "metadata": {},
   "source": [
    "# Error Level Analysis"
   ]
  },
  {
   "cell_type": "code",
   "execution_count": null,
   "id": "bb153f7f-4cdd-4217-8a69-6b427bb8b507",
   "metadata": {},
   "outputs": [],
   "source": [
    "def ela(image_path, temp_path, qualities):\n",
    "    ela_images = []\n",
    "    scale = 15\n",
    "    original_img = cv2.imread(image_path)\n",
    "    original_img = cv2.cvtColor(original_img, cv2.COLOR_BGR2RGB)\n",
    "\n",
    "    for quality in qualities:\n",
    "        cv2.imwrite(temp_path, original_img, [cv2.IMWRITE_JPEG_QUALITY, quality])\n",
    "\n",
    "        temp_img = cv2.imread(temp_path)\n",
    "\n",
    "        ela_img = scale * cv2.absdiff(original_img, temp_img)\n",
    "        ela_images.append(ela_img)\n",
    "\n",
    "    return ela_images"
   ]
  },
  {
   "cell_type": "code",
   "execution_count": null,
   "id": "a0992346-aa6e-4942-be0d-23168b0c0bc7",
   "metadata": {},
   "outputs": [],
   "source": [
    "image_path = df.sample()[['filepath']].values[0][0]\n",
    "temp_path = \"temp.jpg\"\n",
    "qualities = list(range(100, 0, -10))\n",
    "\n",
    "ela_images = ela(image_path, temp_path, qualities)\n",
    "\n",
    "fig, axes = plt.subplots(1, len(ela_images), figsize=(15, 5))\n",
    "for i, ela_img in enumerate(ela_images):\n",
    "    axes[i].imshow(cv2.cvtColor(ela_img, cv2.COLOR_BGR2RGB))\n",
    "    axes[i].set_title(f\"Quality: {qualities[i]}\")\n",
    "    axes[i].axis(\"off\")\n",
    "\n",
    "plt.tight_layout()\n",
    "plt.show()"
   ]
  },
  {
   "cell_type": "markdown",
   "id": "f80ccab1-fe13-454b-9c12-792fb18c6251",
   "metadata": {},
   "source": [
    "# Augmentation"
   ]
  },
  {
   "cell_type": "code",
   "execution_count": null,
   "id": "faeb6b50-05a8-4869-a353-5aa1b01936ba",
   "metadata": {},
   "outputs": [],
   "source": [
    "min_class_count = min(df_train['labels'].value_counts().values)\n",
    "min_class_count"
   ]
  },
  {
   "cell_type": "code",
   "execution_count": null,
   "id": "4913567c-165e-426a-b62a-89811a4dfe7b",
   "metadata": {},
   "outputs": [],
   "source": [
    "transform = A.Compose([\n",
    "    A.Resize(width=224, height=224),\n",
    "    A.Rotate(limit=40),\n",
    "    A.HorizontalFlip(p=0.5),\n",
    "    A.VerticalFlip(p=0.5),\n",
    "    A.RandomBrightnessContrast(p=0.2),\n",
    "    A.RandomGamma(p=0.2),\n",
    "])"
   ]
  },
  {
   "cell_type": "code",
   "execution_count": null,
   "id": "062055e5-0fb4-44b1-a473-b69b55535ca9",
   "metadata": {},
   "outputs": [],
   "source": [
    "def apply_augmentation(image_path, label):\n",
    "    image = cv2.imread(image_path)\n",
    "    image = cv2.cvtColor(image, cv2.COLOR_BGR2RGB)\n",
    "    augmented_image = transform(image=image)['image']\n",
    "    return augmented_image, label"
   ]
  },
  {
   "cell_type": "code",
   "execution_count": null,
   "id": "5ffa8417-c93e-4078-a6de-21ad637487c4",
   "metadata": {},
   "outputs": [],
   "source": [
    "augmented_data = []\n",
    "for index, row in df_train.iterrows():\n",
    "    image_path = row['filepath']\n",
    "    label = row['labels']\n",
    "    augmented_image, augmented_label = apply_augmentation(image_path, label)\n",
    "    augmented_data.append((augmented_image, image_path, augmented_label))"
   ]
  },
  {
   "cell_type": "code",
   "execution_count": null,
   "id": "bc1eebfc-c355-4fbc-a203-e06abba304cf",
   "metadata": {},
   "outputs": [],
   "source": [
    "augmented_df = pd.DataFrame(augmented_data, columns=['data', 'filepath', 'labels'])"
   ]
  },
  {
   "cell_type": "code",
   "execution_count": null,
   "id": "5acac938-9404-4756-adb5-f4394b6f797d",
   "metadata": {},
   "outputs": [],
   "source": [
    "augmented_df.shape"
   ]
  },
  {
   "cell_type": "code",
   "execution_count": null,
   "id": "086a245c-c590-40a7-ac55-0d85acdebc3a",
   "metadata": {},
   "outputs": [],
   "source": [
    "df_train.shape"
   ]
  },
  {
   "cell_type": "code",
   "execution_count": null,
   "id": "0704a9a1-14d5-4f90-8e17-bf58d138b399",
   "metadata": {},
   "outputs": [],
   "source": [
    "def visualize_aug_df(df, data_col, target):\n",
    "    fig, axes = plt.subplots(4, 4, figsize=(12, 12))\n",
    "\n",
    "    for i, ax in enumerate(axes.ravel()):\n",
    "        if i < len(df):\n",
    "            a = np.random.randint(1, len(df), 1)[0]\n",
    "            img_path = df.loc[a][[data_col]].values[0]\n",
    "            img_label = df.loc[a][[target]].values[0]\n",
    "\n",
    "            ax.imshow(img_path)\n",
    "            ax.set_title(img_label)\n",
    "            ax.axis('off')\n",
    "        \n",
    "        else:\n",
    "            ax.axis('off')\n",
    "\n",
    "    plt.tight_layout()\n",
    "    plt.show()"
   ]
  },
  {
   "cell_type": "code",
   "execution_count": null,
   "id": "5ebe6919-7d33-4e1a-beed-36f335a288ce",
   "metadata": {},
   "outputs": [],
   "source": [
    "visualize_aug_df(augmented_df, 'data', 'labels')"
   ]
  },
  {
   "cell_type": "code",
   "execution_count": null,
   "id": "e4bbd52c-69f4-4bbb-91ba-e7c4f6b02795",
   "metadata": {},
   "outputs": [],
   "source": [
    "augmented_df['labels'].value_counts()"
   ]
  },
  {
   "cell_type": "code",
   "execution_count": null,
   "id": "c7c85858-092b-440a-9ac0-1c2bce93f1ec",
   "metadata": {},
   "outputs": [],
   "source": [
    "class_counts = Counter(df_train['labels'])\n",
    "min_class_count = min(class_counts.values())\n",
    "\n",
    "balanced_data = []\n",
    "for label, count in class_counts.items():\n",
    "    class_samples = df_train[df_train['labels'] == label].sample(min_class_count)\n",
    "    balanced_data.append(class_samples)\n",
    "\n",
    "balanced_df = pd.concat(balanced_data)"
   ]
  },
  {
   "cell_type": "code",
   "execution_count": null,
   "id": "cd0d69a9-a146-4989-bb54-263d3c12d240",
   "metadata": {},
   "outputs": [],
   "source": [
    "balanced_df.shape"
   ]
  },
  {
   "cell_type": "markdown",
   "id": "9bd8527f-aea9-4da7-925e-c9a066e93cbb",
   "metadata": {},
   "source": [
    "# Preprocess"
   ]
  },
  {
   "cell_type": "code",
   "execution_count": null,
   "id": "57e177cc-afa3-4be1-b2a0-8098f8b6a758",
   "metadata": {},
   "outputs": [],
   "source": [
    "merged_df = pd.concat([df_train, augmented_df], ignore_index=True)"
   ]
  },
  {
   "cell_type": "code",
   "execution_count": null,
   "id": "20b88647-5bbc-4919-a294-fe75050a8bea",
   "metadata": {},
   "outputs": [],
   "source": [
    "class_counts = Counter(merged_df['labels'])\n",
    "min_class_count = min(class_counts.values())\n",
    "\n",
    "balanced_data = []\n",
    "for label, count in class_counts.items():\n",
    "    class_samples = merged_df[merged_df['labels'] == label].sample(min_class_count)\n",
    "    balanced_data.append(class_samples)\n",
    "\n",
    "balanced_df = pd.concat(balanced_data)"
   ]
  },
  {
   "cell_type": "code",
   "execution_count": null,
   "id": "48d3fbe1-fafc-4714-910f-25f876e18523",
   "metadata": {},
   "outputs": [],
   "source": [
    "balanced_df['labels'].value_counts()"
   ]
  },
  {
   "cell_type": "code",
   "execution_count": null,
   "id": "dab60165-ff8d-4709-bd49-002aa8b7fcfb",
   "metadata": {},
   "outputs": [],
   "source": [
    "train_data =  np.array([np.array(val) for val in balanced_df['data'].values])\n",
    "valid_data = np.array([np.array(val) for val in df_valid['data'].values])\n",
    "test_data = np.array([np.array(val) for val in df_test['data'].values])"
   ]
  },
  {
   "cell_type": "code",
   "execution_count": null,
   "id": "1c667071-9d45-4b63-b4bf-c0a16e06caf4",
   "metadata": {},
   "outputs": [],
   "source": [
    "le = LabelEncoder()\n",
    "train_labels = le.fit_transform(balanced_df['labels'])\n",
    "valid_labels = le.transform(df_valid['labels'])\n",
    "test_labels = le.transform(df_test['labels'])"
   ]
  },
  {
   "cell_type": "markdown",
   "id": "a1846d53-66ff-4f1c-a0db-f4fb0275faf4",
   "metadata": {},
   "source": [
    "# Models"
   ]
  },
  {
   "cell_type": "code",
   "execution_count": null,
   "id": "d083cdbf-5e85-4852-9998-504e771e5fe0",
   "metadata": {},
   "outputs": [],
   "source": [
    "scores_df = pd.DataFrame(columns=['Model Name', 'Batch Size', 'Learning Rate', 'Loss', 'Accuracy'])"
   ]
  },
  {
   "cell_type": "code",
   "execution_count": null,
   "id": "ef226d36-cd53-4280-9025-4bcd70f6c417",
   "metadata": {},
   "outputs": [],
   "source": [
    "num_classes = len(folders)\n",
    "print(num_classes)"
   ]
  },
  {
   "cell_type": "code",
   "execution_count": null,
   "id": "66d03f7c-83b9-4bec-a937-7016ae822dc7",
   "metadata": {},
   "outputs": [],
   "source": [
    "input_shape = (224, 224, 3)"
   ]
  },
  {
   "cell_type": "code",
   "execution_count": null,
   "id": "a52f3d3f-487a-4816-adde-7b9a3dcaf1f6",
   "metadata": {},
   "outputs": [],
   "source": [
    "def train_tl_model(models, preprocessors, learning_rate=0.001, batch_size=64):\n",
    "    for model_name, preprocess_func in zip(models, preprocessors):\n",
    "        print()\n",
    "        print(f' {model_name.__name__} '.center(50, '#'))\n",
    "        input_layer = tf.keras.Input(input_shape)\n",
    "        preprocessed_inputs = tf.keras.layers.Lambda(lambda x: preprocess_func(x))(input_layer)\n",
    "        base_model = model_name(weights='imagenet', include_top=False, input_tensor=preprocessed_inputs)\n",
    "        for layer in base_model.layers:\n",
    "            layer.trainable = False\n",
    "        inputs = base_model.input\n",
    "        x = tf.keras.layers.GlobalAveragePooling2D()(base_model.output)\n",
    "        outputs = tf.keras.layers.Dense(num_classes, activation='softmax')(x)\n",
    "        model = tf.keras.models.Model(inputs=inputs, outputs=outputs)\n",
    "        model.compile(loss='sparse_categorical_crossentropy', optimizer=tf.keras.optimizers.Adam(learning_rate=learning_rate), metrics=['accuracy'])\n",
    "        \n",
    "        if not os.path.exists('./models'):\n",
    "            os.mkdir('./models')\n",
    "        \n",
    "        early_stopping = EarlyStopping(monitor='val_loss', patience=3)\n",
    "        checkpoint = ModelCheckpoint(filepath=f'./models/{model_name.__name__}.h5', monitor='val_accuracy', verbose=0, save_best_only=True, mode='max')\n",
    "        history = model.fit(train_data, train_labels, validation_data=(valid_data, valid_labels), epochs=50, batch_size=batch_size, callbacks=[early_stopping,checkpoint], verbose=0)\n",
    "\n",
    "        fig, axes = plt.subplots(1, 2, figsize=(12, 3))\n",
    "        ax = axes.ravel()\n",
    "\n",
    "        for i, metric in enumerate(['accuracy', 'loss']):\n",
    "            ax[i].plot(history.history[metric])\n",
    "            ax[i].plot(history.history['val_' + metric])\n",
    "            ax[i].set_xlabel('Epoch')\n",
    "            ax[i].set_ylabel(metric)\n",
    "            ax[i].legend(['train', 'valid'])\n",
    "\n",
    "        plt.show()\n",
    "\n",
    "        results = model.evaluate(test_data, test_labels, verbose=0)\n",
    "        print(f'Test Loss: {results[0]}')\n",
    "        print(f'Test Accuracy: {results[1]}')\n",
    "\n",
    "        scores_df.loc[len(scores_df)] = [str(model_name.__name__), batch_size, learning_rate, results[0], results[1]]\n",
    "\n",
    "        print(' '.center(50, '#'))\n",
    "        print()\n",
    "\n",
    "        if len(models) == 1:\n",
    "            return model"
   ]
  },
  {
   "cell_type": "code",
   "execution_count": null,
   "id": "58602232-b136-4775-ae18-34d172773ced",
   "metadata": {},
   "outputs": [],
   "source": [
    "models = [\n",
    "    #VGG16, \n",
    "    #VGG19, \n",
    "    ResNet50, \n",
    "    #ResNet101, \n",
    "    #MobileNetV2, \n",
    "    #DenseNet201, \n",
    "    #Xception, \n",
    "    #InceptionResNetV2\n",
    "]\n",
    "\n",
    "preprocessors = [\n",
    "    #vgg16_preprocess, \n",
    "    #vgg19_preprocess, \n",
    "    resnet50_preprocess, \n",
    "    #resnet101_preprocess, \n",
    "    #mobilenetv2_preprocess,\n",
    "    #densenet201_preprocess, \n",
    "    #xception_preprocess, \n",
    "    #inceptionresnetv2_preprocess\n",
    "]"
   ]
  },
  {
   "cell_type": "code",
   "execution_count": null,
   "id": "9f5ebbc6-0253-476d-81e6-8784a348fc54",
   "metadata": {},
   "outputs": [],
   "source": [
    "model = train_tl_model(models, preprocessors)"
   ]
  },
  {
   "cell_type": "markdown",
   "id": "93287511-11db-45c9-bede-acd21587dd10",
   "metadata": {},
   "source": [
    "# Hyperparameter Tuning"
   ]
  },
  {
   "cell_type": "code",
   "execution_count": null,
   "id": "039d7118-f6ae-483c-b889-81534a68efc5",
   "metadata": {},
   "outputs": [],
   "source": [
    "def create_model(lr_rate=0.001):\n",
    "    input_layer = tf.keras.Input(input_shape)\n",
    "    preprocessed_inputs = tf.keras.layers.Lambda(lambda x: mobilenet_preprocess(x))(input_layer)\n",
    "    base_model = ResNet50(weights='imagenet', include_top=False, input_tensor=preprocessed_inputs)\n",
    "    for layer in base_model.layers:\n",
    "        layer.trainable = False\n",
    "    inputs = base_model.input\n",
    "    x = tf.keras.layers.GlobalAveragePooling2D()(base_model.output)\n",
    "    outputs = tf.keras.layers.Dense(num_classes, activation='softmax')(x)\n",
    "    model = tf.keras.models.Model(inputs=inputs, outputs=outputs)\n",
    "    model.compile(loss='sparse_categorical_crossentropy', optimizer=tf.keras.optimizers.Adam(learning_rate=0.001), metrics=['accuracy'])\n",
    "    return model"
   ]
  },
  {
   "cell_type": "code",
   "execution_count": null,
   "id": "adc1c7ab-93d7-4a80-91dc-11dfc7eace51",
   "metadata": {},
   "outputs": [],
   "source": [
    "lr_rate = [0.1, 0.001]\n",
    "batch_size = [128, 64]"
   ]
  },
  {
   "cell_type": "code",
   "execution_count": null,
   "id": "0897ed79-756f-4d57-ab1a-66448d9473f8",
   "metadata": {},
   "outputs": [],
   "source": [
    "keras_model = KerasClassifier(\n",
    "    build_fn=create_model, \n",
    "    lr_rate=lr_rate, \n",
    "    epochs=25, \n",
    "    batch_size=batch_size, \n",
    "    callbacks=[\n",
    "        EarlyStopping(monitor='val_loss', patience=3),\n",
    "        ModelCheckpoint(filepath=f'./models/mobilnet.h5', monitor='val_accuracy', verbose=0, save_best_only=True, mode='max')\n",
    "    ], \n",
    "    verbose=0\n",
    ")"
   ]
  },
  {
   "cell_type": "code",
   "execution_count": null,
   "id": "7cfd1156-5f7e-463a-ae00-340827f851b6",
   "metadata": {},
   "outputs": [],
   "source": [
    "param_grid = dict(lr_rate = lr_rate, batch_size = batch_size)"
   ]
  },
  {
   "cell_type": "code",
   "execution_count": null,
   "id": "199feb3f-cd9f-492d-baef-da465f784e2a",
   "metadata": {},
   "outputs": [],
   "source": [
    "#grid = GridSearchCV(estimator = keras_model, param_grid = param_grid, cv = None)\n",
    "#grid_result = grid.fit(train_data, train_labels, validation_data=(valid_data, valid_labels))"
   ]
  },
  {
   "cell_type": "code",
   "execution_count": null,
   "id": "10c42829-cfbd-4d68-8bb7-b2f481035f5d",
   "metadata": {},
   "outputs": [],
   "source": [
    "#print(\"The best parameters are:\", grid_result.best_params_)"
   ]
  },
  {
   "cell_type": "code",
   "execution_count": null,
   "id": "122e0af6-106f-4c0f-851a-e88760b525a5",
   "metadata": {},
   "outputs": [],
   "source": [
    "#model = train_tl_model(models, preprocessors, learning_rate=0.001, batch_size=64)"
   ]
  },
  {
   "cell_type": "code",
   "execution_count": null,
   "id": "ae9b03b7-1471-4eb6-bc33-d984e4cd097e",
   "metadata": {},
   "outputs": [],
   "source": [
    "scores_df"
   ]
  },
  {
   "cell_type": "markdown",
   "id": "caae2087-8796-481e-9bc6-87ee225e8859",
   "metadata": {},
   "source": [
    "# Test"
   ]
  },
  {
   "cell_type": "code",
   "execution_count": null,
   "id": "00011ca5-9deb-4cb6-a322-732141f0f72f",
   "metadata": {},
   "outputs": [],
   "source": [
    "test_keyboard = root_dir + \"keyboard/\" + \"1.jpg\"\n",
    "test_gpu = root_dir + \"gpu/\" + \"1.jpg\""
   ]
  },
  {
   "cell_type": "code",
   "execution_count": null,
   "id": "cf9e17b4-7dd9-486c-a340-b98c69b9b2f0",
   "metadata": {},
   "outputs": [],
   "source": [
    "def get_model_prediction(image_path):\n",
    "    img = load_img(image_path, target_size=(224, 224))\n",
    "    x = img_to_array(img)\n",
    "    x = np.expand_dims(x, axis=0)\n",
    "    x = resnet50_preprocess(x)\n",
    "    predictions = model.predict(x, verbose=0)\n",
    "    return le.classes_[predictions.argmax()]"
   ]
  },
  {
   "cell_type": "code",
   "execution_count": null,
   "id": "2c81c66a-5863-4138-85ed-25f9dc4bef77",
   "metadata": {},
   "outputs": [],
   "source": [
    "get_model_prediction(test_keyboard)"
   ]
  },
  {
   "cell_type": "code",
   "execution_count": null,
   "id": "44784d88-6c31-454c-8461-e6eb19bd7f15",
   "metadata": {},
   "outputs": [],
   "source": [
    "get_model_prediction(test_gpu)"
   ]
  },
  {
   "cell_type": "code",
   "execution_count": null,
   "id": "e514b5c9-2207-4c20-a116-5ee30512e9ba",
   "metadata": {},
   "outputs": [],
   "source": [
    "pred = []\n",
    "for file in df_test['filepath'].values:\n",
    "    pred.append(get_model_prediction(file))"
   ]
  },
  {
   "cell_type": "code",
   "execution_count": null,
   "id": "d3b83b2f-fac9-43de-89d1-eb083d7c2ab6",
   "metadata": {},
   "outputs": [],
   "source": [
    "pred = np.array(pred)"
   ]
  },
  {
   "cell_type": "markdown",
   "id": "2e68da06-eac8-4a63-a8bd-e55939c9e75e",
   "metadata": {},
   "source": [
    "# Model Explainability"
   ]
  },
  {
   "cell_type": "code",
   "execution_count": null,
   "id": "99d220e8-6dc4-4239-9453-ac721a791f78",
   "metadata": {},
   "outputs": [],
   "source": [
    "# https://keras.io/examples/vision/grad_cam/\n",
    "def get_img_array(img_path, size):\n",
    "    img = tf.keras.preprocessing.image.load_img(img_path, target_size=size)\n",
    "    array = tf.keras.preprocessing.image.img_to_array(img)\n",
    "    # We add a dimension to transform our array into a \"batch\"\n",
    "    # of size \"size\"\n",
    "    array = np.expand_dims(array, axis=0)\n",
    "    return array\n",
    "\n",
    "# https://keras.io/examples/vision/grad_cam/\n",
    "def make_gradcam_heatmap(img_array, model, last_conv_layer_name, pred_index=None):\n",
    "    # First, we create a model that maps the input image to the activations\n",
    "    # of the last conv layer as well as the output predictions\n",
    "    grad_model = tf.keras.models.Model(\n",
    "        [model.inputs], [model.get_layer(last_conv_layer_name).output, model.output]\n",
    "    )\n",
    "\n",
    "    # Then, we compute the gradient of the top predicted class for our input image\n",
    "    # with respect to the activations of the last conv layer\n",
    "    with tf.GradientTape() as tape:\n",
    "        last_conv_layer_output, preds = grad_model(img_array)\n",
    "        if pred_index is None:\n",
    "            pred_index = tf.argmax(preds[0])\n",
    "        class_channel = preds[:, pred_index]\n",
    "    # This is the gradient of the output neuron (top predicted or chosen)\n",
    "    # with regard to the output feature map of the last conv layer\n",
    "    grads = tape.gradient(class_channel, last_conv_layer_output)\n",
    "\n",
    "    # This is a vector where each entry is the mean intensity of the gradient\n",
    "    # over a specific feature map channel\n",
    "    pooled_grads = tf.reduce_mean(grads, axis=(0, 1, 2))\n",
    "\n",
    "    # We multiply each channel in the feature map array\n",
    "    # by \"how important this channel is\" with regard to the top predicted class\n",
    "    # then sum all the channels to obtain the heatmap class activation\n",
    "    last_conv_layer_output = last_conv_layer_output[0]\n",
    "    heatmap = last_conv_layer_output @ pooled_grads[..., tf.newaxis]\n",
    "    heatmap = tf.squeeze(heatmap)\n",
    "\n",
    "    # For visualization purpose, we will also normalize the heatmap between 0 & 1\n",
    "    heatmap = tf.maximum(heatmap, 0) / tf.math.reduce_max(heatmap)\n",
    "    return heatmap.numpy()\n",
    "\n",
    "# https://keras.io/examples/vision/grad_cam/\n",
    "def save_and_display_gradcam(img_path, heatmap, cam_path=\"cam.jpg\", alpha=0.4):\n",
    "    # Load the original image\n",
    "    img = tf.keras.preprocessing.image.load_img(img_path)\n",
    "    img = tf.keras.preprocessing.image.img_to_array(img)\n",
    "\n",
    "    # Rescale heatmap to a range 0-255\n",
    "    heatmap = np.uint8(255 * heatmap)\n",
    "\n",
    "    # Use jet colormap to colorize heatmap\n",
    "    jet = cm.get_cmap(\"jet\")\n",
    "\n",
    "    # Use RGB values of the colormap\n",
    "    jet_colors = jet(np.arange(256))[:, :3]\n",
    "    jet_heatmap = jet_colors[heatmap]\n",
    "\n",
    "    # Create an image with RGB colorized heatmap\n",
    "    jet_heatmap = tf.keras.preprocessing.image.array_to_img(jet_heatmap)\n",
    "    jet_heatmap = jet_heatmap.resize((img.shape[1], img.shape[0]))\n",
    "    jet_heatmap = tf.keras.preprocessing.image.img_to_array(jet_heatmap)\n",
    "\n",
    "    # Superimpose the heatmap on original image\n",
    "    superimposed_img = jet_heatmap * alpha + img\n",
    "    superimposed_img = tf.keras.preprocessing.image.array_to_img(superimposed_img)\n",
    "    # Save the superimposed image\n",
    "    superimposed_img.save(cam_path)\n",
    "\n",
    "    return cam_path"
   ]
  },
  {
   "cell_type": "code",
   "execution_count": null,
   "id": "691393bc-a00a-4490-9ed0-a5f236a6460c",
   "metadata": {},
   "outputs": [],
   "source": [
    "last_conv_layer_name = \"conv5_block3_3_conv\"\n"
   ]
  },
  {
   "cell_type": "code",
   "execution_count": null,
   "id": "c730e9e3-c779-4322-b783-3a6c41331825",
   "metadata": {},
   "outputs": [],
   "source": [
    "model.layers[-1].activation = None"
   ]
  },
  {
   "cell_type": "code",
   "execution_count": null,
   "id": "df10e8aa-3c56-4a0c-8253-56f771f6da82",
   "metadata": {},
   "outputs": [],
   "source": [
    "fig, axes = plt.subplots(nrows=4, ncols=4, figsize=(15, 10))\n",
    "random_index = np.random.randint(0, len(df_test), 16)\n",
    "\n",
    "for i, ax in enumerate(axes.ravel()):\n",
    "    img_path = df_test['filepath'].iloc[random_index[i]]\n",
    "    img_array = resnet50_preprocess(get_img_array(img_path, size=input_shape))\n",
    "    heatmap = make_gradcam_heatmap(img_array, model, last_conv_layer_name)\n",
    "    cam_path = save_and_display_gradcam(img_path, heatmap)\n",
    "    ax.imshow(plt.imread(cam_path))\n",
    "    ax.axis('off')\n",
    "    \n",
    "    if df_test['labels'].iloc[random_index[i]] == pred[random_index[i]]:\n",
    "        color = \"green\"\n",
    "    else:\n",
    "        color = \"red\"\n",
    "    ax.set_title(f\"True: {df_test['labels'].iloc[random_index[i]]}\\nPredicted: {pred[random_index[i]]}\", color=color)\n",
    "plt.tight_layout()\n",
    "plt.show()"
   ]
  },
  {
   "cell_type": "markdown",
   "id": "303daf66-7154-4602-ab74-49096354870a",
   "metadata": {},
   "source": [
    "# Results"
   ]
  },
  {
   "cell_type": "code",
   "execution_count": null,
   "id": "0310a4e4-b179-4dc8-9ee0-8958bc83a055",
   "metadata": {},
   "outputs": [],
   "source": [
    "def plot_scores(df):\n",
    "    plt.figure(figsize=(15, 20))\n",
    "\n",
    "    plt.subplot(211)\n",
    "    ax = sns.barplot(data=df, x='Model Name', y=\"Accuracy\", palette='viridis')\n",
    "    for container in ax.containers:\n",
    "        ax.bar_label(container)\n",
    "\n",
    "    plt.xlabel('')\n",
    "    plt.xticks(rotation=45)\n",
    "    plt.title(\"Model / Test Accuracy\")\n",
    "\n",
    "    plt.subplot(212)\n",
    "    ax = sns.barplot(data=df, x='Model Name', y=\"Loss\", palette='viridis')\n",
    "    for container in ax.containers:\n",
    "        ax.bar_label(container)\n",
    "\n",
    "    plt.xlabel('')\n",
    "    plt.xticks(rotation=45)\n",
    "    plt.title(\"Model / Test Loss\")\n",
    "\n",
    "    plt.show()"
   ]
  },
  {
   "cell_type": "code",
   "execution_count": null,
   "id": "ad31990f-2557-461a-a8a2-99064f0ed932",
   "metadata": {},
   "outputs": [],
   "source": [
    "plot_scores(scores_df)"
   ]
  },
  {
   "cell_type": "code",
   "execution_count": null,
   "id": "d66f2373-6950-4ce9-b974-09200f735d1f",
   "metadata": {},
   "outputs": [],
   "source": []
  }
 ],
 "metadata": {
  "kernelspec": {
   "display_name": "Python 3 (ipykernel)",
   "language": "python",
   "name": "python3"
  },
  "language_info": {
   "codemirror_mode": {
    "name": "ipython",
    "version": 3
   },
   "file_extension": ".py",
   "mimetype": "text/x-python",
   "name": "python",
   "nbconvert_exporter": "python",
   "pygments_lexer": "ipython3",
   "version": "3.10.12"
  }
 },
 "nbformat": 4,
 "nbformat_minor": 5
}
